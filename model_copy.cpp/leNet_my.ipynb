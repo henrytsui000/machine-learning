{
 "metadata": {
  "language_info": {
   "codemirror_mode": {
    "name": "ipython",
    "version": 3
   },
   "file_extension": ".py",
   "mimetype": "text/x-python",
   "name": "python",
   "nbconvert_exporter": "python",
   "pygments_lexer": "ipython3",
   "version": "3.8.5"
  },
  "orig_nbformat": 2,
  "kernelspec": {
   "name": "python3",
   "display_name": "Python 3",
   "language": "python"
  }
 },
 "nbformat": 4,
 "nbformat_minor": 2,
 "cells": [
  {
   "cell_type": "code",
   "execution_count": 50,
   "metadata": {},
   "outputs": [],
   "source": [
    "import numpy as np\n",
    "from keras.models import Sequential\n",
    "from keras.layers.core import Dense, Dropout, Activation\n",
    "from keras.layers import Conv2D, MaxPooling2D, Flatten\n",
    "from keras.optimizers import SGD, Adam\n",
    "from keras.utils import np_utils"
   ]
  },
  {
   "cell_type": "code",
   "execution_count": 62,
   "metadata": {},
   "outputs": [],
   "source": [
    "model = Sequential()\n",
    "model . add ( Conv2D ( 6, ( 5 , 5 ), input_shape =(\n",
    "        32 , 32 , 1 )))\n",
    "\n",
    "model . add ( MaxPooling2D (( 2 , 2 )))\n",
    "\n",
    "model . add ( Conv2D ( 16 , ( 5 , 5 ), input_shape =(\n",
    "         14 , 14 , 6)))\n",
    "\n",
    "\n",
    "model . add ( MaxPooling2D (( 2 , 2 )))\n",
    "\n",
    "model . add ( Flatten ())\n",
    "model . add ( Dense ( units = 120 , activation = 'relu' ))\n",
    "model . add ( Dense ( units = 84 , activation = 'relu' ))    \n",
    "model . add ( Dense ( units = 10 , activation = 'softmax' ))\n",
    "\n"
   ]
  },
  {
   "cell_type": "code",
   "execution_count": 63,
   "metadata": {},
   "outputs": [
    {
     "output_type": "stream",
     "name": "stdout",
     "text": [
      "Model: \"sequential_17\"\n_________________________________________________________________\nLayer (type)                 Output Shape              Param #   \n=================================================================\nconv2d_37 (Conv2D)           (None, 28, 28, 6)         156       \n_________________________________________________________________\nmax_pooling2d_6 (MaxPooling2 (None, 14, 14, 6)         0         \n_________________________________________________________________\nconv2d_38 (Conv2D)           (None, 10, 10, 16)        2416      \n_________________________________________________________________\nmax_pooling2d_7 (MaxPooling2 (None, 5, 5, 16)          0         \n_________________________________________________________________\nflatten (Flatten)            (None, 400)               0         \n_________________________________________________________________\ndense_9 (Dense)              (None, 120)               48120     \n_________________________________________________________________\ndense_10 (Dense)             (None, 84)                10164     \n_________________________________________________________________\ndense_11 (Dense)             (None, 10)                850       \n=================================================================\nTotal params: 61,706\nTrainable params: 61,706\nNon-trainable params: 0\n_________________________________________________________________\n"
     ]
    }
   ],
   "source": [
    "model.summary()"
   ]
  },
  {
   "cell_type": "code",
   "execution_count": 59,
   "metadata": {},
   "outputs": [
    {
     "output_type": "stream",
     "name": "stdout",
     "text": [
      "('Failed to import pydot. You must `pip install pydot` and install graphviz (https://graphviz.gitlab.io/download/), ', 'for `pydotprint` to work.')\n"
     ]
    }
   ],
   "source": [
    "\n",
    "import tensorflow as tf\n",
    "tf.keras.utils.plot_model(\n",
    "model, to_file='model.png',\n",
    "show_shapes=False, show_dtype=False,\n",
    "show_layer_names=True, rankdir='TB',\n",
    "expand_nested=False, dpi=96 )"
   ]
  },
  {
   "cell_type": "code",
   "execution_count": null,
   "metadata": {},
   "outputs": [],
   "source": []
  }
 ]
}