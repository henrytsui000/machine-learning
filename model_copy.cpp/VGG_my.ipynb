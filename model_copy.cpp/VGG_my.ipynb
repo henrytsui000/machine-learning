{
 "metadata": {
  "language_info": {
   "codemirror_mode": {
    "name": "ipython",
    "version": 3
   },
   "file_extension": ".py",
   "mimetype": "text/x-python",
   "name": "python",
   "nbconvert_exporter": "python",
   "pygments_lexer": "ipython3",
   "version": "3.8.5"
  },
  "orig_nbformat": 2,
  "kernelspec": {
   "name": "python3",
   "display_name": "Python 3",
   "language": "python"
  }
 },
 "nbformat": 4,
 "nbformat_minor": 2,
 "cells": [
  {
   "cell_type": "code",
   "execution_count": 1,
   "metadata": {},
   "outputs": [],
   "source": [
    "import numpy as np\n",
    "from keras.models import Sequential\n",
    "from keras.layers.core import Dense, Dropout, Activation\n",
    "from keras.layers import Conv2D, MaxPooling2D, Flatten\n",
    "from keras.optimizers import SGD, Adam\n",
    "from keras.utils import np_utils"
   ]
  },
  {
   "cell_type": "code",
   "execution_count": 7,
   "metadata": {},
   "outputs": [
    {
     "output_type": "stream",
     "name": "stdout",
     "text": [
      "Model: \"sequential_5\"\n_________________________________________________________________\nLayer (type)                 Output Shape              Param #   \n=================================================================\nconv2d_53 (Conv2D)           (None, 224, 224, 64)      1792      \n_________________________________________________________________\nconv2d_54 (Conv2D)           (None, 224, 224, 64)      36928     \n_________________________________________________________________\nmax_pooling2d_20 (MaxPooling (None, 112, 112, 64)      0         \n_________________________________________________________________\nconv2d_55 (Conv2D)           (None, 112, 112, 128)     73856     \n_________________________________________________________________\nconv2d_56 (Conv2D)           (None, 112, 112, 128)     147584    \n_________________________________________________________________\nconv2d_57 (Conv2D)           (None, 112, 112, 128)     147584    \n_________________________________________________________________\nmax_pooling2d_21 (MaxPooling (None, 56, 56, 128)       0         \n_________________________________________________________________\nconv2d_58 (Conv2D)           (None, 56, 56, 256)       295168    \n_________________________________________________________________\nconv2d_59 (Conv2D)           (None, 56, 56, 256)       590080    \n_________________________________________________________________\nconv2d_60 (Conv2D)           (None, 56, 56, 256)       590080    \n_________________________________________________________________\nconv2d_61 (Conv2D)           (None, 56, 56, 256)       590080    \n_________________________________________________________________\nmax_pooling2d_22 (MaxPooling (None, 28, 28, 256)       0         \n_________________________________________________________________\nconv2d_62 (Conv2D)           (None, 28, 28, 512)       1180160   \n_________________________________________________________________\nconv2d_63 (Conv2D)           (None, 28, 28, 512)       2359808   \n_________________________________________________________________\nconv2d_64 (Conv2D)           (None, 28, 28, 512)       2359808   \n_________________________________________________________________\nmax_pooling2d_23 (MaxPooling (None, 14, 14, 512)       0         \n_________________________________________________________________\nconv2d_65 (Conv2D)           (None, 14, 14, 512)       2359808   \n_________________________________________________________________\nconv2d_66 (Conv2D)           (None, 14, 14, 512)       2359808   \n_________________________________________________________________\nconv2d_67 (Conv2D)           (None, 14, 14, 512)       2359808   \n_________________________________________________________________\nmax_pooling2d_24 (MaxPooling (None, 7, 7, 512)         0         \n_________________________________________________________________\nconv2d_68 (Conv2D)           (None, 7, 7, 512)         2359808   \n_________________________________________________________________\nflatten_5 (Flatten)          (None, 25088)             0         \n_________________________________________________________________\ndense_15 (Dense)             (None, 4096)              102764544 \n_________________________________________________________________\ndense_16 (Dense)             (None, 4096)              16781312  \n_________________________________________________________________\ndense_17 (Dense)             (None, 1000)              4097000   \n=================================================================\nTotal params: 141,455,016\nTrainable params: 141,455,016\nNon-trainable params: 0\n_________________________________________________________________\n"
     ]
    }
   ],
   "source": [
    "model = Sequential()\n",
    "model . add ( Conv2D ( 64, ( 3 , 3 ), input_shape =(\n",
    "        224 , 224 , 3 ), padding = \"same\"))\n",
    "model . add ( Conv2D ( 64, ( 3 , 3 ) , padding = \"same\"))\n",
    "\n",
    "model . add ( MaxPooling2D (( 2 , 2 )))\n",
    "\n",
    "model . add ( Conv2D ( 128 , ( 3, 3 ), padding = \"same\"))\n",
    "\n",
    "model . add ( Conv2D ( 128 , ( 3, 3 ), padding = \"same\"))\n",
    "\n",
    "model . add ( Conv2D ( 128 , ( 3, 3 ), padding = \"same\"))\n",
    "\n",
    "model . add ( MaxPooling2D (( 2 , 2 )))\n",
    "\n",
    "model . add ( Conv2D ( 256 , ( 3, 3 ), padding = \"same\"))\n",
    "model . add ( Conv2D ( 256 , ( 3, 3 ), padding = \"same\"))\n",
    "model . add ( Conv2D ( 256 , ( 3, 3 ), padding = \"same\"))\n",
    "model . add ( Conv2D ( 256 , ( 3, 3 ), padding = \"same\"))\n",
    "\n",
    "model . add ( MaxPooling2D (( 2 , 2 )))\n",
    "\n",
    "\n",
    "\n",
    "model . add ( Conv2D ( 512 , ( 3 , 3 ), padding = \"same\"))\n",
    "\n",
    "model . add ( Conv2D ( 512 , ( 3, 3 ), padding = \"same\"))\n",
    "\n",
    "model . add ( Conv2D ( 512 , ( 3 , 3 ), padding = \"same\"))\n",
    "\n",
    "model . add ( MaxPooling2D (( 2 , 2 )))\n",
    "\n",
    "model . add ( Conv2D ( 512 , ( 3 , 3 ), padding = \"same\"))\n",
    "\n",
    "model . add ( Conv2D ( 512 , ( 3 , 3 ), padding = \"same\"))\n",
    "\n",
    "model . add ( Conv2D ( 512 , ( 3 , 3 ), padding = \"same\"))\n",
    "\n",
    "model . add ( MaxPooling2D (( 2 , 2 )))\n",
    "\n",
    "\n",
    "model . add ( Conv2D ( 512 , ( 3 , 3 ), padding = \"same\"))\n",
    "\n",
    "\n",
    "model . add ( Flatten ())\n",
    "model . add ( Dense ( units = 4096 , activation = 'relu' ))\n",
    "model . add ( Dense ( units = 4096 , activation = 'relu' ))    \n",
    "model . add ( Dense ( units = 1000 , activation = 'softmax' ))\n",
    "\n",
    "model.summary()"
   ]
  },
  {
   "cell_type": "code",
   "execution_count": null,
   "metadata": {},
   "outputs": [],
   "source": []
  }
 ]
}