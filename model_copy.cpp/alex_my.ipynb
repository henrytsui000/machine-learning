{
 "metadata": {
  "language_info": {
   "codemirror_mode": {
    "name": "ipython",
    "version": 3
   },
   "file_extension": ".py",
   "mimetype": "text/x-python",
   "name": "python",
   "nbconvert_exporter": "python",
   "pygments_lexer": "ipython3",
   "version": "3.8.5"
  },
  "orig_nbformat": 2,
  "kernelspec": {
   "name": "python3",
   "display_name": "Python 3",
   "language": "python"
  }
 },
 "nbformat": 4,
 "nbformat_minor": 2,
 "cells": [
  {
   "cell_type": "code",
   "execution_count": 1,
   "metadata": {},
   "outputs": [],
   "source": [
    "import numpy as np\n",
    "from keras.models import Sequential\n",
    "from keras.layers.core import Dense, Dropout, Activation\n",
    "from keras.layers import Conv2D, MaxPooling2D, Flatten\n",
    "from keras.optimizers import SGD, Adam\n",
    "from keras.utils import np_utils"
   ]
  },
  {
   "cell_type": "code",
   "execution_count": 22,
   "metadata": {},
   "outputs": [
    {
     "output_type": "stream",
     "name": "stdout",
     "text": [
      "Model: \"sequential_20\"\n_________________________________________________________________\nLayer (type)                 Output Shape              Param #   \n=================================================================\nconv2d_76 (Conv2D)           (None, 55, 55, 96)        34944     \n_________________________________________________________________\nmax_pooling2d_57 (MaxPooling (None, 27, 27, 96)        0         \n_________________________________________________________________\nconv2d_77 (Conv2D)           (None, 27, 27, 256)       614656    \n_________________________________________________________________\nmax_pooling2d_58 (MaxPooling (None, 13, 13, 256)       0         \n_________________________________________________________________\nconv2d_78 (Conv2D)           (None, 13, 13, 384)       885120    \n_________________________________________________________________\nconv2d_79 (Conv2D)           (None, 13, 13, 384)       1327488   \n_________________________________________________________________\nconv2d_80 (Conv2D)           (None, 13, 13, 256)       884992    \n_________________________________________________________________\nmax_pooling2d_59 (MaxPooling (None, 6, 6, 256)         0         \n_________________________________________________________________\nflatten_17 (Flatten)         (None, 9216)              0         \n_________________________________________________________________\ndense_51 (Dense)             (None, 4096)              37752832  \n_________________________________________________________________\ndense_52 (Dense)             (None, 4096)              16781312  \n_________________________________________________________________\ndense_53 (Dense)             (None, 1000)              4097000   \n=================================================================\nTotal params: 62,378,344\nTrainable params: 62,378,344\nNon-trainable params: 0\n_________________________________________________________________\n"
     ]
    }
   ],
   "source": [
    "model = Sequential()\n",
    "model . add ( Conv2D ( 96, ( 11 , 11 ), input_shape =(\n",
    "        227 , 227 , 3 ), strides = 4))\n",
    "\n",
    "model . add ( MaxPooling2D (( 2 , 2 )))\n",
    "\n",
    "model . add ( Conv2D ( 256 , ( 5 , 5 ), padding = \"same\"))\n",
    "\n",
    "model . add ( MaxPooling2D (( 2 , 2 )))\n",
    "\n",
    "\n",
    "\n",
    "model . add ( Conv2D ( 384 , ( 3 , 3 ), padding = \"same\"))\n",
    "\n",
    "\n",
    "model . add ( Conv2D ( 384 , ( 3, 3 ), padding = \"same\"))\n",
    "\n",
    "model . add ( Conv2D ( 256 , ( 3 , 3 ), padding = \"same\"))\n",
    "\n",
    "model . add ( MaxPooling2D (( 2 , 2 )))\n",
    "\n",
    "model . add ( Flatten ())\n",
    "model . add ( Dense ( units = 4096 , activation = 'relu' ))\n",
    "model . add ( Dense ( units = 4096 , activation = 'relu' ))    \n",
    "model . add ( Dense ( units = 1000 , activation = 'softmax' ))\n",
    "\n",
    "model.summary()"
   ]
  },
  {
   "cell_type": "code",
   "execution_count": null,
   "metadata": {},
   "outputs": [],
   "source": []
  }
 ]
}