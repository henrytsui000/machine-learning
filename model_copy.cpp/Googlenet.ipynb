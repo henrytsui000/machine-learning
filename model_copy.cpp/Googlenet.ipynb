{
 "metadata": {
  "language_info": {
   "codemirror_mode": {
    "name": "ipython",
    "version": 3
   },
   "file_extension": ".py",
   "mimetype": "text/x-python",
   "name": "python",
   "nbconvert_exporter": "python",
   "pygments_lexer": "ipython3",
   "version": "3.8.5"
  },
  "orig_nbformat": 2,
  "kernelspec": {
   "name": "python3",
   "display_name": "Python 3",
   "language": "python"
  }
 },
 "nbformat": 4,
 "nbformat_minor": 2,
 "cells": [
  {
   "cell_type": "code",
   "execution_count": 1,
   "metadata": {},
   "outputs": [],
   "source": [
    "import numpy as np\n",
    "from keras.models import Sequential\n",
    "from keras.layers.core import Dense, Dropout, Activation\n",
    "from keras.layers import Conv2D, MaxPooling2D, Flatten\n",
    "from keras.optimizers import SGD, Adam\n",
    "from keras.utils import np_utils"
   ]
  },
  {
   "cell_type": "code",
   "execution_count": null,
   "metadata": {},
   "outputs": [],
   "source": [
    "model = Sequential()\n",
    "model . add ( Conv2D ( 64, ( 3 , 3 ), input_shape =(\n",
    "        224 , 224 , 3 ), padding = \"same\"))\n",
    "model . add ( Conv2D ( 64, ( 3 , 3 ) , padding = \"same\"))\n",
    "\n",
    "model . add ( MaxPooling2D (( 2 , 2 )))\n",
    "\n",
    "model . add ( Conv2D ( 128 , ( 3, 3 ), padding = \"same\"))\n",
    "\n",
    "model . add ( Conv2D ( 128 , ( 3, 3 ), padding = \"same\"))\n",
    "\n",
    "model . add ( Conv2D ( 128 , ( 3, 3 ), padding = \"same\"))\n",
    "\n",
    "model . add ( MaxPooling2D (( 2 , 2 )))\n",
    "\n",
    "model . add ( Conv2D ( 256 , ( 3, 3 ), padding = \"same\"))\n",
    "model . add ( Conv2D ( 256 , ( 3, 3 ), padding = \"same\"))\n",
    "model . add ( Conv2D ( 256 , ( 3, 3 ), padding = \"same\"))\n",
    "model . add ( Conv2D ( 256 , ( 3, 3 ), padding = \"same\"))\n",
    "\n",
    "model . add ( MaxPooling2D (( 2 , 2 )))\n",
    "\n",
    "\n",
    "\n",
    "model . add ( Conv2D ( 512 , ( 3 , 3 ), padding = \"same\"))\n",
    "\n",
    "model . add ( Conv2D ( 512 , ( 3, 3 ), padding = \"same\"))\n",
    "\n",
    "model . add ( Conv2D ( 512 , ( 3 , 3 ), padding = \"same\"))\n",
    "\n",
    "model . add ( MaxPooling2D (( 2 , 2 )))\n",
    "\n",
    "model . add ( Conv2D ( 512 , ( 3 , 3 ), padding = \"same\"))\n",
    "\n",
    "model . add ( Conv2D ( 512 , ( 3 , 3 ), padding = \"same\"))\n",
    "\n",
    "model . add ( Conv2D ( 512 , ( 3 , 3 ), padding = \"same\"))\n",
    "\n",
    "model . add ( MaxPooling2D (( 2 , 2 )))\n",
    "\n",
    "\n",
    "model . add ( Conv2D ( 512 , ( 3 , 3 ), padding = \"same\"))\n",
    "\n",
    "\n",
    "model . add ( Flatten ())\n",
    "model . add ( Dense ( units = 4096 , activation = 'relu' ))\n",
    "model . add ( Dense ( units = 4096 , activation = 'relu' ))    \n",
    "model . add ( Dense ( units = 1000 , activation = 'softmax' ))\n",
    "\n",
    "model.summary()"
   ]
  }
 ]
}